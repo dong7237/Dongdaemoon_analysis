{
 "cells": [
  {
   "cell_type": "code",
   "execution_count": 2,
   "id": "a7b45ef1-ecf6-4cb9-8087-c268da43ef6e",
   "metadata": {},
   "outputs": [
    {
     "name": "stdout",
     "output_type": "stream",
     "text": [
      "✅ 완성!  결과 Shape = (11075, 3)\n",
      "→ PROCESSED/행정동별_월별_총자동차등록대수_2021-11_2023-12.csv\n"
     ]
    }
   ],
   "source": [
    "import pandas as pd, chardet\n",
    "\n",
    "# ---------- 파일 경로 ----------\n",
    "baseline_csv = \"RAW/21년10월31일 기준 서울시 자동차 등록현황(동별 연료별).csv\"\n",
    "monthly_csv  = \"RAW/서울특별시_월별 행정동별 자동차 신규 등록 대수_20231231.csv\"\n",
    "# --------------------------------\n",
    "\n",
    "# 1) 파일 인코딩 자동 감지 & 로드 ---------------------------------\n",
    "def read_auto(path, **kw):\n",
    "    enc = chardet.detect(open(path,'rb').read(5000))['encoding']\n",
    "    return pd.read_csv(path, encoding=enc or 'utf-8', **kw)\n",
    "\n",
    "base = read_auto(baseline_csv)\n",
    "monthly = read_auto(monthly_csv)\n",
    "\n",
    "# 2) 2021‑10‑31 기준 총대수 추출 ---------------------------------\n",
    "#   · '행정동-연료별 분류' → '서울특별시 …동' 만 남기고\n",
    "#   · '총합계' 열을 baseline_total 로 사용\n",
    "base = (base\n",
    "        .assign(행정동명=lambda d: d['행정동-연료별 분류'].str.extract(r'(서울특별시 .+)')[0])\n",
    "        .dropna(subset=['행정동명'])\n",
    "        [['행정동명','총합계']]\n",
    "        .rename(columns={'총합계':'baseline_total'}))\n",
    "\n",
    "# 3) 월별 신규등록 데이터 전처리 ---------------------------------\n",
    "monthly = (monthly\n",
    "           .rename(columns={'연월':'month','행정동명':'행정동명','등록대수':'new_reg'})\n",
    "           .assign(month=lambda d: pd.to_datetime(d['month']).dt.strftime('%Y-%m'))\n",
    "           .query(\"month > '2021-10'\"))\n",
    "\n",
    "new_by_month = (monthly\n",
    "                .groupby(['행정동명','month'], as_index=False)['new_reg']\n",
    "                .sum())\n",
    "\n",
    "# 4) 행정동별 누적 합계 계산 --------------------------------------\n",
    "new_by_month = (new_by_month\n",
    "                .sort_values(['행정동명','month'])\n",
    "                .groupby('행정동명')\n",
    "                .apply(lambda df: df.assign(cum_new=df['new_reg'].cumsum()))\n",
    "                .reset_index(drop=True))\n",
    "\n",
    "# 5) baseline + 누적합 → 월별 총대수 ------------------------------\n",
    "final = (new_by_month\n",
    "         .merge(base, on='행정동명', how='left')\n",
    "         .assign(total_registered=lambda d: d['baseline_total'] + d['cum_new'])\n",
    "         [['행정동명','month','total_registered']]\n",
    "         .sort_values(['행정동명','month']))\n",
    "\n",
    "# 6) 저장 ---------------------------------------------------------\n",
    "out = \"PROCESSED/행정동별_월별_총자동차등록대수_2021-11_2023-12.csv\"\n",
    "final.to_csv(out, index=False, encoding='utf-8-sig')\n",
    "print(f\"✅ 완성!  결과 Shape = {final.shape}\\n→ {out}\")\n"
   ]
  },
  {
   "cell_type": "code",
   "execution_count": 3,
   "id": "c4c5f77f-36bc-4c68-88b9-ce09c6e16d5c",
   "metadata": {},
   "outputs": [],
   "source": [
    "final['시군구'] = final['행정동명'].str.split(' ').str[1]"
   ]
  },
  {
   "cell_type": "code",
   "execution_count": 4,
   "id": "e59125af-31b5-438a-a5d2-6c496f15e288",
   "metadata": {},
   "outputs": [],
   "source": [
    "final.to_csv(out, index=False, encoding='utf-8-sig')"
   ]
  }
 ],
 "metadata": {
  "kernelspec": {
   "display_name": "Python 3 (ipykernel)",
   "language": "python",
   "name": "python3"
  },
  "language_info": {
   "codemirror_mode": {
    "name": "ipython",
    "version": 3
   },
   "file_extension": ".py",
   "mimetype": "text/x-python",
   "name": "python",
   "nbconvert_exporter": "python",
   "pygments_lexer": "ipython3",
   "version": "3.11.7"
  }
 },
 "nbformat": 4,
 "nbformat_minor": 5
}
